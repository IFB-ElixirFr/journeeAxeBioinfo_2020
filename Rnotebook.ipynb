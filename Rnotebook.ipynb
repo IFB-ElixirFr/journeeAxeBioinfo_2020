{
 "cells": [
  {
   "cell_type": "markdown",
   "metadata": {},
   "source": [
    "--- \n",
    "\n",
    "# Les principes FAIR appliqués à la bioinformatique\n",
    "\n",
    "**Outils et environnements FAIR pour la bioanalyse**\n",
    "\n",
    "Mardi 15 décembre 2020\n",
    "\n",
    "Thomas Denecker - *Data brokering* - IFB core\n",
    "\n",
    "---\n",
    "\n",
    "## Un notebook R interactif\n",
    "\n",
    "### Chargement des packages"
   ]
  },
  {
   "cell_type": "code",
   "execution_count": null,
   "metadata": {},
   "outputs": [],
   "source": [
    "options(warn=-1)\n",
    "library(plotly)\n",
    "library(DT)\n",
    "library(dplyr)\n",
    "library(plotly)"
   ]
  },
  {
   "cell_type": "markdown",
   "metadata": {},
   "source": [
    "### Lectures du tableau de résultats de SARtootls"
   ]
  },
  {
   "cell_type": "code",
   "execution_count": null,
   "metadata": {},
   "outputs": [],
   "source": [
    "dataSartools <- read.csv2(\"demo/tables/DEPLETEDvsSTANDARD.complete.txt\", sep = \"\\t\", header = T,stringsAsFactors = F)\n",
    "dataSartools <- dataSartools %>% \n",
    "filter(log2FoldChange != \"\") %>% \n",
    "arrange(desc(log2FoldChange))%>% \n",
    "mutate(log2FoldChange = as.numeric(log2FoldChange), \n",
    "      pvalue = as.numeric(pvalue))"
   ]
  },
  {
   "cell_type": "markdown",
   "metadata": {},
   "source": [
    "### Datatable \n",
    "\n",
    "Documentation : https://rstudio.github.io/DT/"
   ]
  },
  {
   "cell_type": "code",
   "execution_count": null,
   "metadata": {},
   "outputs": [],
   "source": [
    "datatable(dataSartools[, c(\"Id\", \"log2FoldChange\", \"pvalue\")], extensions = 'Buttons', filter = 'top', \n",
    "          options = list(\n",
    "            dom = 'Bfrtip',\n",
    "            buttons = c('copy', 'csv', 'excel', 'pdf', 'print'), \n",
    "            pageLength = 5, autoWidth = TRUE\n",
    "          ))"
   ]
  },
  {
   "cell_type": "markdown",
   "metadata": {},
   "source": [
    "### Volcano plot avec Plotly\n",
    "\n",
    "Documentation : https://plotly.com/r/"
   ]
  },
  {
   "cell_type": "code",
   "execution_count": null,
   "metadata": {},
   "outputs": [],
   "source": [
    "inter = cbind(x = dataSartools$log2FoldChange,\n",
    "              y = -log10(dataSartools$pvalue), \n",
    "              pvalue = dataSartools$pvalue, \n",
    "              feature = dataSartools$Id)\n",
    "inter = na.omit(inter)\n",
    "inter = as.data.frame(inter)\n",
    "inter[,1] = as.numeric(as.character(inter[,1]))\n",
    "inter[,2] = as.numeric(as.character(inter[,2]))\n",
    "    \n",
    "color = rep(\"black\", nrow(inter))\n",
    "pos = which(abs(inter$x) >= 2 & inter$y >= -log10(0.01))\n",
    "color[pos] = \"red\"\n",
    "    \n",
    "plot_ly(inter, x = ~x, y = ~y, type = 'scatter', mode = 'markers',\n",
    "            text = ~paste(\"Feature: \", feature, '<br>logFC:', x, '<br>Pvalue:', pvalue ),\n",
    "            marker = list(color = color)) %>%\n",
    "      layout(title = 'Volcano plot',\n",
    "             shapes=list(list(type='line', x0=min(inter$x)-1, x1= max(inter$x)+1, y0=-log10(0.01), y1=-log10(0.01), line=list(dash='dot', width=1)),\n",
    "                         list(type='line', x0=-2, x1= -2, y0=0, y1=max(inter$y), line=list(dash='dot', width=1)),\n",
    "                         list(type='line', x0=2, x1= 2, y0=0, y1=max(inter$y), line=list(dash='dot', width=1))),\n",
    "             yaxis = list(zeroline = FALSE, title= \"-log10(adjusted pvalue)\"),\n",
    "             xaxis = list(zeroline = FALSE, title= \"log2(fold change)\"))"
   ]
  },
  {
   "cell_type": "code",
   "execution_count": null,
   "metadata": {},
   "outputs": [],
   "source": [
    "sessionInfo()"
   ]
  }
 ],
 "metadata": {
  "kernelspec": {
   "display_name": "R 3.6.3",
   "language": "R",
   "name": "r-3.6.3"
  },
  "language_info": {
   "codemirror_mode": "r",
   "file_extension": ".r",
   "mimetype": "text/x-r-source",
   "name": "R",
   "pygments_lexer": "r",
   "version": "3.6.3"
  }
 },
 "nbformat": 4,
 "nbformat_minor": 4
}
