{
 "cells": [
  {
   "cell_type": "markdown",
   "metadata": {},
   "source": [
    "# Journée Axe Bioinformatique\n",
    "\n",
    "**Thème** : outils et environnements FAIR pour la bioanalyse\n",
    "\n",
    "Thomas Denecker - IFB core\n",
    "\n",
    "## Contexte"
   ]
  },
  {
   "cell_type": "markdown",
   "metadata": {},
   "source": [
    "## Demo\n",
    "\n",
    "### Création d'un répertoire de travail"
   ]
  },
  {
   "cell_type": "code",
   "execution_count": null,
   "metadata": {},
   "outputs": [],
   "source": [
    "mkdir demo\n",
    "cd demo "
   ]
  },
  {
   "cell_type": "markdown",
   "metadata": {},
   "source": [
    "### Import des données\n",
    "\n",
    "**Téléchargement des données**"
   ]
  },
  {
   "cell_type": "code",
   "execution_count": null,
   "metadata": {},
   "outputs": [],
   "source": [
    "wget https://zenodo.org/record/3997237/files/FAIR_Bioinfo_data.tar.gz?download=1 -O FAIR_Bioinfo_data.tar.gz"
   ]
  },
  {
   "cell_type": "markdown",
   "metadata": {},
   "source": [
    "**Extraction des données**"
   ]
  },
  {
   "cell_type": "code",
   "execution_count": null,
   "metadata": {},
   "outputs": [],
   "source": [
    "tar -xvzf FAIR_Bioinfo_data.tar.gz"
   ]
  },
  {
   "cell_type": "markdown",
   "metadata": {},
   "source": [
    "### Récupération des scripts d'analyse\n",
    "**Snakemake files**"
   ]
  },
  {
   "cell_type": "code",
   "execution_count": null,
   "metadata": {},
   "outputs": [],
   "source": [
    "wget https://raw.githubusercontent.com/IFB-ElixirFr/journeeAxeBioinfo_2020/main/config.yml\n",
    "wget https://raw.githubusercontent.com/IFB-ElixirFr/journeeAxeBioinfo_2020/main/demo.smk"
   ]
  },
  {
   "cell_type": "markdown",
   "metadata": {},
   "source": [
    "**Slurm files**"
   ]
  },
  {
   "cell_type": "code",
   "execution_count": null,
   "metadata": {},
   "outputs": [],
   "source": [
    "wget https://raw.githubusercontent.com/IFB-ElixirFr/journeeAxeBioinfo_2020/main/runSARtools.slurm\n",
    "wget https://raw.githubusercontent.com/IFB-ElixirFr/journeeAxeBioinfo_2020/main/runSnakemake.slurm"
   ]
  },
  {
   "cell_type": "markdown",
   "metadata": {},
   "source": [
    "**R files**"
   ]
  },
  {
   "cell_type": "code",
   "execution_count": null,
   "metadata": {},
   "outputs": [],
   "source": [
    "wget https://raw.githubusercontent.com/IFB-ElixirFr/journeeAxeBioinfo_2020/main/condition.txt\n",
    "wget https://raw.githubusercontent.com/IFB-ElixirFr/journeeAxeBioinfo_2020/main/sartools.R"
   ]
  },
  {
   "cell_type": "markdown",
   "metadata": {},
   "source": [
    "### Lancement de l'analyse"
   ]
  },
  {
   "cell_type": "code",
   "execution_count": null,
   "metadata": {},
   "outputs": [],
   "source": [
    "sbatch runSnakemake.slurm"
   ]
  },
  {
   "cell_type": "code",
   "execution_count": null,
   "metadata": {},
   "outputs": [],
   "source": [
    "SINGULARITY_LOCALCACHEDIR=${PWD}\n",
    "SINGULARITY_PULLFOLDER=${PWD}\n",
    "singularity pull docker://tdenecker/journee_axe_bioinfo"
   ]
  },
  {
   "cell_type": "code",
   "execution_count": null,
   "metadata": {},
   "outputs": [],
   "source": [
    "sbatch runSARtools.slurm"
   ]
  },
  {
   "cell_type": "code",
   "execution_count": null,
   "metadata": {},
   "outputs": [],
   "source": []
  }
 ],
 "metadata": {
  "kernelspec": {
   "display_name": "Bash",
   "language": "bash",
   "name": "bash"
  },
  "language_info": {
   "codemirror_mode": "shell",
   "file_extension": ".sh",
   "mimetype": "text/x-sh",
   "name": "bash"
  }
 },
 "nbformat": 4,
 "nbformat_minor": 4
}
